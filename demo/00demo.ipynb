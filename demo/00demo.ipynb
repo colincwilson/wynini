{
 "cells": [
  {
   "cell_type": "code",
   "execution_count": 3,
   "metadata": {},
   "outputs": [
    {
     "name": "stdout",
     "output_type": "stream",
     "text": [
      "Help on module wynini.config in wynini:\n",
      "\n",
      "NAME\n",
      "    wynini.config - # -*- coding: utf-8 -*-\n",
      "\n",
      "FUNCTIONS\n",
      "    init(config)\n",
      "        Set globals with dictionary or module\n",
      "\n",
      "DATA\n",
      "    bos = '⋊'\n",
      "    eos = '⋉'\n",
      "    epsilon = 'ϵ'\n",
      "    sigma = ['a', 'b']\n",
      "    special_syms = []\n",
      "    syms = []\n",
      "    symtable = None\n",
      "    unk = '⊥'\n",
      "    verbosity = 0\n",
      "    λ = ''\n",
      "\n",
      "FILE\n",
      "    /Users/colin/Code/Python/wynini/wynini/config.py\n",
      "\n",
      "\n"
     ]
    }
   ],
   "source": [
    "import sys\n",
    "from graphviz import Digraph, Source\n",
    "from pathlib import Path\n",
    "\n",
    "sys.path.append(str(Path.home() / 'Code/Python/wynini'))\n",
    "from wynini import config as wconfig\n",
    "from wynini import wfst\n",
    "from wynini.wfst import *\n",
    "\n",
    "help(wconfig)"
   ]
  },
  {
   "cell_type": "code",
   "execution_count": 15,
   "metadata": {},
   "outputs": [
    {
     "ename": "NameError",
     "evalue": "name 'lattice' is not defined",
     "output_type": "error",
     "traceback": [
      "\u001b[0;31m---------------------------------------------------------------------------\u001b[0m",
      "\u001b[0;31mNameError\u001b[0m                                 Traceback (most recent call last)",
      "\u001b[1;32m/Users/colin/Code/Python/wynini/demo/00demo.ipynb Cell 2\u001b[0m in \u001b[0;36m<cell line: 2>\u001b[0;34m()\u001b[0m\n\u001b[1;32m      <a href='vscode-notebook-cell:/Users/colin/Code/Python/wynini/demo/00demo.ipynb#W1sZmlsZQ%3D%3D?line=0'>1</a>\u001b[0m \u001b[39m#M = braid(2)\u001b[39;00m\n\u001b[0;32m----> <a href='vscode-notebook-cell:/Users/colin/Code/Python/wynini/demo/00demo.ipynb#W1sZmlsZQ%3D%3D?line=1'>2</a>\u001b[0m M \u001b[39m=\u001b[39m lattice(\u001b[39m2\u001b[39m)\n\u001b[1;32m      <a href='vscode-notebook-cell:/Users/colin/Code/Python/wynini/demo/00demo.ipynb#W1sZmlsZQ%3D%3D?line=2'>3</a>\u001b[0m \u001b[39m#M = ngram(context='left', length=1)\u001b[39;00m\n\u001b[1;32m      <a href='vscode-notebook-cell:/Users/colin/Code/Python/wynini/demo/00demo.ipynb#W1sZmlsZQ%3D%3D?line=3'>4</a>\u001b[0m M\u001b[39m.\u001b[39mdraw(\u001b[39m'\u001b[39m\u001b[39mM.dot\u001b[39m\u001b[39m'\u001b[39m)\n",
      "\u001b[0;31mNameError\u001b[0m: name 'lattice' is not defined"
     ]
    }
   ],
   "source": [
    "#M = braid(2)\n",
    "M = trellis(2)\n",
    "#M = ngram(context='left', length=1)\n",
    "M.draw('M.dot')\n",
    "M_viz = Source.from_file('M.dot')\n",
    "M_viz"
   ]
  },
  {
   "cell_type": "markdown",
   "metadata": {},
   "source": []
  },
  {
   "cell_type": "code",
   "execution_count": 14,
   "metadata": {},
   "outputs": [
    {
     "ename": "TypeError",
     "evalue": "Wfst.draw() missing 1 required positional argument: 'source'",
     "output_type": "error",
     "traceback": [
      "\u001b[0;31m---------------------------------------------------------------------------\u001b[0m",
      "\u001b[0;31mTypeError\u001b[0m                                 Traceback (most recent call last)",
      "\u001b[1;32m/Users/colin/Code/Python/wynini/demo/00demo.ipynb Cell 4\u001b[0m in \u001b[0;36m<cell line: 1>\u001b[0;34m()\u001b[0m\n\u001b[0;32m----> <a href='vscode-notebook-cell:/Users/colin/Code/Python/wynini/demo/00demo.ipynb#W4sZmlsZQ%3D%3D?line=0'>1</a>\u001b[0m M\u001b[39m.\u001b[39;49mdraw()\n",
      "\u001b[0;31mTypeError\u001b[0m: Wfst.draw() missing 1 required positional argument: 'source'"
     ]
    }
   ],
   "source": [
    "M.draw()"
   ]
  }
 ],
 "metadata": {
  "kernelspec": {
   "display_name": "Python 3.10.4 ('py3_10')",
   "language": "python",
   "name": "python3"
  },
  "language_info": {
   "codemirror_mode": {
    "name": "ipython",
    "version": 3
   },
   "file_extension": ".py",
   "mimetype": "text/x-python",
   "name": "python",
   "nbconvert_exporter": "python",
   "pygments_lexer": "ipython3",
   "version": "3.10.6"
  },
  "orig_nbformat": 4,
  "vscode": {
   "interpreter": {
    "hash": "2e44aadca2f69da8d3b478ca9fa73c491b38ea97c9870964517e4c6f83d97d8f"
   }
  }
 },
 "nbformat": 4,
 "nbformat_minor": 2
}
