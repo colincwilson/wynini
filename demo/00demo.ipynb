{
 "cells": [
  {
   "cell_type": "code",
   "execution_count": null,
   "metadata": {},
   "outputs": [],
   "source": [
    "import sys\n",
    "import functools\n",
    "import numpy as np\n",
    "from graphviz import Digraph, Source\n",
    "from pathlib import Path\n",
    "from pynini import Weight\n",
    "\n",
    "sys.path.append(str(Path.home() / 'Code/Python/wynini'))\n",
    "from wynini import config as wconfig\n",
    "from wynini import wfst\n",
    "from wynini.wfst import *"
   ]
  },
  {
   "cell_type": "code",
   "execution_count": null,
   "metadata": {},
   "outputs": [],
   "source": [
    "help(wconfig)\n",
    "wconfig.init({'sigma': ['a', 'b', 'c']})"
   ]
  },
  {
   "cell_type": "code",
   "execution_count": null,
   "metadata": {},
   "outputs": [],
   "source": [
    "M = braid(2, arc_type='log')\n",
    "one = Weight('log', 0.0)\n",
    "M.assign_weights(lambda M, q, t: one)\n",
    "\n",
    "#M = trellis(2)\n",
    "#M = ngram(context='left', length=1)\n",
    "M.draw('M.dot', show_weight_one=True)\n",
    "M_viz = Source.from_file('M.dot')\n",
    "M_viz"
   ]
  },
  {
   "cell_type": "code",
   "execution_count": null,
   "metadata": {},
   "outputs": [],
   "source": [
    "beta = shortestdistance(M, reverse=True)\n",
    "beta = np.array([float(w) for w in beta])\n",
    "print(np.exp(-beta))"
   ]
  },
  {
   "cell_type": "code",
   "execution_count": null,
   "metadata": {},
   "outputs": [],
   "source": [
    "# Add paths.\n",
    "M.add_path(src=1, ilabel='a', olabel='b c', weight=None, dest=1)\n",
    "M.add_path(src=2, ilabel='a b', olabel='c', weight=None, dest=3)\n",
    "M.draw('M.dot', show_weight_one=True)\n",
    "M_viz = Source.from_file('M.dot')\n",
    "M_viz"
   ]
  },
  {
   "cell_type": "code",
   "execution_count": null,
   "metadata": {},
   "outputs": [],
   "source": [
    "# Concatenation, union, optionality, star.\n",
    "wfst1 = Wfst()\n",
    "q0 = wfst1.add_state(initial=True)\n",
    "q1 = wfst1.add_state(final=True)\n",
    "wfst1.add_arc(q0, 'a', 'a', None, q1)\n",
    "print(wfst1.print())\n",
    "\n",
    "wfst2 = Wfst()\n",
    "q0 = wfst2.add_state(initial=True)\n",
    "q1 = wfst2.add_state(final=True)\n",
    "wfst2.add_arc(q0, 'b', 'b', None, q1)\n",
    "print(wfst2.print())\n",
    "\n",
    "# Concatenation.\n",
    "wfst12 = concat(wfst1, wfst2)\n",
    "print(wfst12.print())\n",
    "\n",
    "# Union.\n",
    "wfst12 = union(wfst1, wfst2)\n",
    "print(wfst12.print())\n",
    "\n",
    "# Optionality.\n",
    "wfst = ques(wfst1)\n",
    "print(wfst.print())\n",
    "\n",
    "# Star.\n",
    "wfst = star(wfst1)\n",
    "print(wfst.print())"
   ]
  },
  {
   "cell_type": "code",
   "execution_count": null,
   "metadata": {},
   "outputs": [],
   "source": [
    "# N-gram machines.\n",
    "config.init({'sigma': ['a', 'b']})\n",
    "M = ngram(context='both', length=1)\n",
    "\n",
    "# Flatten labels.\n",
    "def relabel_func(wfst, q):\n",
    "    label = wfst.state_label(q)\n",
    "    label_ = tuple(' '.join(x) for x in label)\n",
    "    return label_\n",
    "M = M.relabel_states(relabel_func)\n",
    "\n",
    "M.draw('M.dot', show_weight_one=False)\n",
    "M_viz = Source.from_file('M.dot')\n",
    "M_viz"
   ]
  }
 ],
 "metadata": {
  "kernelspec": {
   "display_name": "Python 3.10.4 ('py3_10')",
   "language": "python",
   "name": "python3"
  },
  "language_info": {
   "codemirror_mode": {
    "name": "ipython",
    "version": 3
   },
   "file_extension": ".py",
   "mimetype": "text/x-python",
   "name": "python",
   "nbconvert_exporter": "python",
   "pygments_lexer": "ipython3",
   "version": "3.12.3"
  },
  "orig_nbformat": 4,
  "vscode": {
   "interpreter": {
    "hash": "f7118336a0cd4217cc085a8d697a35432f62c3437c0fd415e7f7b92d0abe83ba"
   }
  }
 },
 "nbformat": 4,
 "nbformat_minor": 2
}
